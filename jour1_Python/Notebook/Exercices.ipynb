{
 "cells": [
  {
   "cell_type": "markdown",
   "metadata": {},
   "source": [
    "# Exercices"
   ]
  },
  {
   "cell_type": "markdown",
   "metadata": {},
   "source": [
    "## Exercice 1 : Tracer une fonction\n",
    "Ecrivez un programme qui trace la fonction $g(y) = e^{-y} sin(4y)$ pour $y \\in [0, 4]$ en utilisant une ligne continue rouge. Utilisez 500 intervalles pour évaluer les points dans [0,4]. Stockez toutes les coordonnées et les valeurs dans des tableaux. Placez le texte des graduations sur les axes et utilisez le titre \"Onde sinusoïdale atténuée\".\n"
   ]
  },
  {
   "cell_type": "code",
   "execution_count": null,
   "metadata": {},
   "outputs": [],
   "source": []
  },
  {
   "cell_type": "markdown",
   "metadata": {},
   "source": [
    "## Exercice 2 : Tracer deux fonctions\n",
    "\n",
    "Comme Exercice 1, mais ajouter une courbe en pointillé noir pour la fonction $h(y) = e^{-\\frac{3}{2}y} sin(4y)$. Inclure une légende pour chaque courbe (avec les noms $g$ et $h$)."
   ]
  },
  {
   "cell_type": "code",
   "execution_count": null,
   "metadata": {},
   "outputs": [],
   "source": []
  },
  {
   "cell_type": "markdown",
   "metadata": {},
   "source": [
    "## Exercise 3: Approximer une fonction par une somme de sinus\n",
    "\n",
    "Nous considérons la fonction constante par morceaux:\n",
    "\\begin{equation}\n",
    "f(t) = \\left\\lbrace\n",
    "\\begin{array}{ll}\n",
    "1, & 0 < t < T/2,\\\\\n",
    "0, & t = T/2,\\\\\n",
    "-1, & T/2 < t \\le T\n",
    "\\end{array}\\right.\n",
    "\\label{_auto1} \\tag{1}\n",
    "\\end{equation}\n",
    "\n",
    "On peut approcher f(t) par la somme:\n",
    "\n",
    "\\begin{equation}\n",
    "S(t;n) = {4\\over\\pi}\\sum_{i=1}^n {1\\over 2i-1}\n",
    "\\sin\\left( {2(2i-1)\\pi t\\over T}\\right)\n",
    "\\label{_auto2} \\tag{2}\n",
    "\\end{equation}\n",
    "\n",
    "On peut montrer que $S(t;n)\\rightarrow f(t)$ quand $n\\rightarrow\\infty$\n",
    "\n",
    "\n",
    "**a)**\n",
    "Ecrivez une fonction Python `S(t, n, T)` pour renvoyer la valeur de $S(t; n)$.\n",
    "\n",
    "**b)**\n",
    "Ecrivez une fonction Python `f(t, T)` pour calculer $f(t)$.\n",
    "\n",
    "**c)**\n",
    "Créer un tableau `t` à l'aide de la fonction `linspace`, du module `numpy`, pour `100` valeurs `t` uniformément espacés dans [0, T]. On prendra $T = 2 \\pi$.\n",
    "\n",
    "**d)**\n",
    "Remplir une liste `F` par les valeurs de `f(ti,T)` avec $ti \\in t$. Transformer la liste `F` en un tableau (nous voulons avoir un tableau pour la fonction $f(t)$ avec $t \\in [0, T]$ et $T = 2\\pi$).\n",
    "\n",
    "**e)**\n",
    "Tracer $S(t; 1)$, $S(t; 3)$, $S(t; 20)$, $S(t; 200)$ et la fonction exacte $f(t)$ dans le même graphique. Le résultat devrait être similaire au graphique ci-dessous.\n",
    "\n",
    "**f)**\n",
    "Quelle est la relation entre la qualité de l'approximation et le choix de la valeur de `n`?\n"
   ]
  },
  {
   "cell_type": "code",
   "execution_count": null,
   "metadata": {},
   "outputs": [],
   "source": []
  }
 ],
 "metadata": {
  "kernelspec": {
   "display_name": "Python 3",
   "language": "python",
   "name": "python3"
  },
  "language_info": {
   "codemirror_mode": {
    "name": "ipython",
    "version": 3
   },
   "file_extension": ".py",
   "mimetype": "text/x-python",
   "name": "python",
   "nbconvert_exporter": "python",
   "pygments_lexer": "ipython3",
   "version": "3.7.6"
  }
 },
 "nbformat": 4,
 "nbformat_minor": 4
}
