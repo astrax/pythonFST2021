{
 "cells": [
  {
   "cell_type": "markdown",
   "metadata": {},
   "source": [
    "# Titre du premier niveau\n",
    "## Sous-Titre\n",
    "Un simple text.\n",
    "\n",
    "Un retour à la ligne. Une formule mathématique en ligne : $E = mc^2$.\n",
    "$$E = mc^2$$"
   ]
  },
  {
   "cell_type": "code",
   "execution_count": 2,
   "metadata": {},
   "outputs": [
    {
     "name": "stdout",
     "output_type": "stream",
     "text": [
      "Hello World!\n"
     ]
    }
   ],
   "source": [
    "print(\"Hello World!\")"
   ]
  },
  {
   "cell_type": "markdown",
   "metadata": {},
   "source": [
    "Je peux faire l'appel à des commandes système via Jupyter Notebook."
   ]
  },
  {
   "cell_type": "code",
   "execution_count": 6,
   "metadata": {},
   "outputs": [
    {
     "name": "stdout",
     "output_type": "stream",
     "text": [
      "\u001b[0m\u001b[01;32mintroduction.py\u001b[0m*      pi.csv         \u001b[01;34m__pycache__\u001b[0m/\r\n",
      "intro_notebook.ipynb  \u001b[01;32mprojet_pi.py\u001b[0m*  \u001b[01;32mtest_pi.py\u001b[0m*\r\n"
     ]
    }
   ],
   "source": [
    "ls"
   ]
  },
  {
   "cell_type": "markdown",
   "metadata": {},
   "source": [
    "Donc je peux importer le module `projet_pi` ici :"
   ]
  },
  {
   "cell_type": "code",
   "execution_count": 9,
   "metadata": {},
   "outputs": [
    {
     "name": "stdout",
     "output_type": "stream",
     "text": [
      "3.136642188870299\n",
      "3.1320765318091053\n"
     ]
    }
   ],
   "source": [
    "from projet_pi import piLeibniz, piEuler\n",
    "print(piLeibniz(100))\n",
    "print(piEuler(100))"
   ]
  },
  {
   "cell_type": "code",
   "execution_count": null,
   "metadata": {},
   "outputs": [],
   "source": [
    "# %load projet_pi.py\n",
    "from math import sqrt\n",
    "def piLeibniz(n):\n",
    "    s = 0\n",
    "    for i in range(n+1):\n",
    "        s+=1/((4*i + 1)*(4*i +3))\n",
    "    s*=8\n",
    "    return s\n",
    "def piEuler(n):\n",
    "    s = 0\n",
    "    for i in range(1, n+1):\n",
    "        s+= 1/i**2\n",
    "    s = sqrt(6*s)\n",
    "    return s\n"
   ]
  },
  {
   "cell_type": "code",
   "execution_count": null,
   "metadata": {},
   "outputs": [],
   "source": []
  }
 ],
 "metadata": {
  "kernelspec": {
   "display_name": "Python 3",
   "language": "python",
   "name": "python3"
  },
  "language_info": {
   "codemirror_mode": {
    "name": "ipython",
    "version": 3
   },
   "file_extension": ".py",
   "mimetype": "text/x-python",
   "name": "python",
   "nbconvert_exporter": "python",
   "pygments_lexer": "ipython3",
   "version": "3.7.6"
  }
 },
 "nbformat": 4,
 "nbformat_minor": 4
}
